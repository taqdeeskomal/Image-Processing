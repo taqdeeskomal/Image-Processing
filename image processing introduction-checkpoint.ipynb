{
 "cells": [
  {
   "cell_type": "code",
   "execution_count": 1,
   "id": "8720ff5a",
   "metadata": {},
   "outputs": [],
   "source": [
    "import cv2"
   ]
  },
  {
   "cell_type": "code",
   "execution_count": 2,
   "id": "63f662bf",
   "metadata": {},
   "outputs": [],
   "source": [
    "my_img=cv2.imread('moon.jpeg')"
   ]
  },
  {
   "cell_type": "code",
   "execution_count": 3,
   "id": "86dcd83c",
   "metadata": {},
   "outputs": [
    {
     "data": {
      "text/plain": [
       "(481, 500, 3)"
      ]
     },
     "execution_count": 3,
     "metadata": {},
     "output_type": "execute_result"
    }
   ],
   "source": [
    "my_img.shape"
   ]
  },
  {
   "cell_type": "code",
   "execution_count": 4,
   "id": "dcfdff4f",
   "metadata": {},
   "outputs": [],
   "source": [
    "my_img=cv2.imread('Moon.jpeg',0)\n",
    "cv2.imshow('Gray Scale Image Moon',my_img)\n",
    "cv2.waitKey(0)\n",
    "cv2.destroyAllWindows()"
   ]
  },
  {
   "cell_type": "code",
   "execution_count": 5,
   "id": "eb8549e0",
   "metadata": {},
   "outputs": [
    {
     "data": {
      "text/plain": [
       "(250, 250)"
      ]
     },
     "execution_count": 5,
     "metadata": {},
     "output_type": "execute_result"
    }
   ],
   "source": [
    "my_img1=cv2.resize(my_img,(250,250))\n",
    "my_img1.shape"
   ]
  },
  {
   "cell_type": "code",
   "execution_count": 6,
   "id": "450a7704",
   "metadata": {},
   "outputs": [],
   "source": [
    "path=r\"C:\\Users\\Taqdees\\Downloads\\Moon.jpeg\"\n",
    "src=cv2.imread(path)\n",
    "window_name=\"image\"\n",
    "image=cv2.cvtColor(src,cv2.COLOR_BGR2GRAY)\n",
    "cv2.imshow(window_name,image)\n",
    "cv2.waitKey(0)\n",
    "cv2.destroyAllWindows()\n"
   ]
  },
  {
   "cell_type": "code",
   "execution_count": 7,
   "id": "a8a7d3e9",
   "metadata": {},
   "outputs": [],
   "source": [
    "from matplotlib import pyplot as plt\n",
    "my_img1=cv2.imread('Moon.jpeg')\n",
    "my_img1=cv2.resize(my_img1,(250,250),0)\n",
    "thickness=5\n",
    "color=(250,0,0)\n",
    "center_coordinates=(125,125)\n",
    "axesLength=(100,100)\n",
    "angle=0\n",
    "startAngle=0\n",
    "endAngle=360\n",
    "color=(50,250,200)\n",
    "thickness=5\n",
    "my_img2 = cv2.ellipse(my_img1, center_coordinates, axesLength, angle, startAngle, endAngle, color, thickness)\n",
    "cv2.imshow('Draw circle',my_img2)\n",
    "cv2.waitKey(0)\n",
    "cv2.destroyAllWindows()"
   ]
  },
  {
   "cell_type": "code",
   "execution_count": 8,
   "id": "6691cf2a",
   "metadata": {},
   "outputs": [
    {
     "data": {
      "text/plain": [
       "True"
      ]
     },
     "execution_count": 8,
     "metadata": {},
     "output_type": "execute_result"
    }
   ],
   "source": [
    "import cv2\n",
    "my_img2=cv2.imread('moon.jpeg',0)\n",
    "cv2.imwrite('Circle_moon.jpeg',my_img2)"
   ]
  },
  {
   "cell_type": "code",
   "execution_count": 9,
   "id": "30f9f8f1",
   "metadata": {},
   "outputs": [],
   "source": [
    "my_img1=cv2.imread('Moon.jpeg')\n",
    "my_img1=cv2.resize(my_img1,(250,250))\n",
    "img = cv2.copyMakeBorder(my_img1, 250, 250, 250, 250,cv2.BORDER_CONSTANT)\n",
    "cv2.imshow('ADD' , img)\n",
    "cv2.waitKey(0)\n",
    "cv2.destroyAllWindows()"
   ]
  },
  {
   "cell_type": "code",
   "execution_count": 1,
   "id": "febd2319",
   "metadata": {},
   "outputs": [],
   "source": [
    "import cv2\n",
    "import numpy as np\n",
    "\n",
    "video1 = cv2.VideoCapture(\"video1.mp4\")\n",
    "video2 = cv2.VideoCapture(\"TIME 2-Stock video_preview.mp4\")\n",
    "\n",
    "while True:\n",
    "\n",
    "    ret1, frame1 = video1.read()\n",
    "    ret2, frame2 = video2.read()\n",
    "    if ret1==False or ret2==False:\n",
    "        break\n",
    "\n",
    "    frame1=cv2.resize(frame1, (640,340))\n",
    "    frame2=cv2.resize(frame2, (640,340))\n",
    "\n",
    "    dst = cv2.addWeighted(frame1,0.3,frame2,0.7,0)\n",
    "    cv2.imshow('dst',dst)\n",
    "    key = cv2.waitKey(1)\n",
    "    if key==ord('q'):\n",
    "        break\n",
    "\n",
    "cv2.destroyAllWindows()"
   ]
  }
 ],
 "metadata": {
  "kernelspec": {
   "display_name": "Python 3 (ipykernel)",
   "language": "python",
   "name": "python3"
  },
  "language_info": {
   "codemirror_mode": {
    "name": "ipython",
    "version": 3
   },
   "file_extension": ".py",
   "mimetype": "text/x-python",
   "name": "python",
   "nbconvert_exporter": "python",
   "pygments_lexer": "ipython3",
   "version": "3.9.7"
  }
 },
 "nbformat": 4,
 "nbformat_minor": 5
}
